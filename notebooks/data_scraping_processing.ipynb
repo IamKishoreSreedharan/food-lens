{
  "nbformat": 4,
  "nbformat_minor": 0,
  "metadata": {
    "colab": {
      "provenance": [],
      "toc_visible": true,
      "mount_file_id": "1GHTu6sCBOnpaKFf-mK-WybHyoVu-atHT",
      "authorship_tag": "ABX9TyMMMX9OgJIZN5XMTFu3raw/",
      "include_colab_link": true
    },
    "kernelspec": {
      "name": "python3",
      "display_name": "Python 3"
    },
    "language_info": {
      "name": "python"
    }
  },
  "cells": [
    {
      "cell_type": "markdown",
      "metadata": {
        "id": "view-in-github",
        "colab_type": "text"
      },
      "source": [
        "<a href=\"https://colab.research.google.com/github/IamKishoreSreedharan/food-lens/blob/main/data_scraping_processing.ipynb\" target=\"_parent\"><img src=\"https://colab.research.google.com/assets/colab-badge.svg\" alt=\"Open In Colab\"/></a>"
      ]
    },
    {
      "cell_type": "code",
      "execution_count": 1,
      "metadata": {
        "id": "pPTeBRDr3koh"
      },
      "outputs": [],
      "source": [
        "import os\n",
        "import pandas as pd\n",
        "import requests\n",
        "from PIL import Image\n",
        "from io import BytesIO\n",
        "from pathlib import Path\n",
        "from tqdm import tqdm\n",
        "import hashlib"
      ]
    },
    {
      "cell_type": "code",
      "source": [
        "DIR = '/content/drive/MyDrive/project/'"
      ],
      "metadata": {
        "id": "ueeEqFal3ykr"
      },
      "execution_count": 5,
      "outputs": []
    },
    {
      "cell_type": "code",
      "source": [
        "# Create organized subdirectories\n",
        "# os.makedirs(os.path.join(DIR, \"images\"), exist_ok=True)          # For downloaded images\n",
        "# os.makedirs(os.path.join(DIR, \"data\"), exist_ok=True)            # For CSVs\n",
        "# os.makedirs(os.path.join(DIR, \"models/classifier\"), exist_ok=True)          # For autoencoder weights\n",
        "# os.makedirs(os.path.join(DIR, \"models/cbir\"), exist_ok=True)\n",
        "# os.makedirs(os.path.join(DIR, \"latent_features\"), exist_ok=True) # For feature vectors\n",
        "SRC_FILENAME = 'data/recipe.csv'"
      ],
      "metadata": {
        "id": "pVVyfxsM31__"
      },
      "execution_count": 6,
      "outputs": []
    },
    {
      "cell_type": "code",
      "source": [
        "df_recipe = pd.read_csv(DIR + SRC_FILENAME, low_memory=False)"
      ],
      "metadata": {
        "id": "Au_nIJHz357o"
      },
      "execution_count": 7,
      "outputs": []
    },
    {
      "cell_type": "code",
      "source": [
        "df_recipe.dtypes"
      ],
      "metadata": {
        "colab": {
          "base_uri": "https://localhost:8080/",
          "height": 1000
        },
        "id": "WhiwZ5R55Gfh",
        "outputId": "6e76e6d8-b50f-4692-d0f7-a99749f1a25b"
      },
      "execution_count": 8,
      "outputs": [
        {
          "output_type": "execute_result",
          "data": {
            "text/plain": [
              "title                     object\n",
              "url                       object\n",
              "category                  object\n",
              "author                    object\n",
              "description               object\n",
              "rating                   float64\n",
              "rating_count               int64\n",
              "review_count               int64\n",
              "ingredients               object\n",
              "directions                object\n",
              "prep_time                 object\n",
              "cook_time                 object\n",
              "total_time                object\n",
              "servings                   int64\n",
              "yields                    object\n",
              "calories                 float64\n",
              "carbohydrates_g          float64\n",
              "sugars_g                 float64\n",
              "fat_g                    float64\n",
              "saturated_fat_g          float64\n",
              "cholesterol_mg           float64\n",
              "protein_g                float64\n",
              "dietary_fiber_g          float64\n",
              "sodium_mg                float64\n",
              "calories_from_fat        float64\n",
              "calcium_mg               float64\n",
              "iron_mg                  float64\n",
              "magnesium_mg             float64\n",
              "potassium_mg             float64\n",
              "zinc_mg                  float64\n",
              "phosphorus_mg            float64\n",
              "vitamin_a_iu_IU          float64\n",
              "niacin_equivalents_mg    float64\n",
              "vitamin_b6_mg            float64\n",
              "vitamin_c_mg             float64\n",
              "folate_mcg               float64\n",
              "thiamin_mg               float64\n",
              "riboflavin_mg            float64\n",
              "vitamin_e_iu_IU          float64\n",
              "vitamin_k_mcg            float64\n",
              "biotin_mcg               float64\n",
              "vitamin_b12_mcg          float64\n",
              "mono_fat_g               float64\n",
              "poly_fat_g               float64\n",
              "trans_fatty_acid_g       float64\n",
              "omega_3_fatty_acid_g     float64\n",
              "omega_6_fatty_acid_g     float64\n",
              "instructions_list         object\n",
              "image                     object\n",
              "dtype: object"
            ],
            "text/html": [
              "<div>\n",
              "<style scoped>\n",
              "    .dataframe tbody tr th:only-of-type {\n",
              "        vertical-align: middle;\n",
              "    }\n",
              "\n",
              "    .dataframe tbody tr th {\n",
              "        vertical-align: top;\n",
              "    }\n",
              "\n",
              "    .dataframe thead th {\n",
              "        text-align: right;\n",
              "    }\n",
              "</style>\n",
              "<table border=\"1\" class=\"dataframe\">\n",
              "  <thead>\n",
              "    <tr style=\"text-align: right;\">\n",
              "      <th></th>\n",
              "      <th>0</th>\n",
              "    </tr>\n",
              "  </thead>\n",
              "  <tbody>\n",
              "    <tr>\n",
              "      <th>title</th>\n",
              "      <td>object</td>\n",
              "    </tr>\n",
              "    <tr>\n",
              "      <th>url</th>\n",
              "      <td>object</td>\n",
              "    </tr>\n",
              "    <tr>\n",
              "      <th>category</th>\n",
              "      <td>object</td>\n",
              "    </tr>\n",
              "    <tr>\n",
              "      <th>author</th>\n",
              "      <td>object</td>\n",
              "    </tr>\n",
              "    <tr>\n",
              "      <th>description</th>\n",
              "      <td>object</td>\n",
              "    </tr>\n",
              "    <tr>\n",
              "      <th>rating</th>\n",
              "      <td>float64</td>\n",
              "    </tr>\n",
              "    <tr>\n",
              "      <th>rating_count</th>\n",
              "      <td>int64</td>\n",
              "    </tr>\n",
              "    <tr>\n",
              "      <th>review_count</th>\n",
              "      <td>int64</td>\n",
              "    </tr>\n",
              "    <tr>\n",
              "      <th>ingredients</th>\n",
              "      <td>object</td>\n",
              "    </tr>\n",
              "    <tr>\n",
              "      <th>directions</th>\n",
              "      <td>object</td>\n",
              "    </tr>\n",
              "    <tr>\n",
              "      <th>prep_time</th>\n",
              "      <td>object</td>\n",
              "    </tr>\n",
              "    <tr>\n",
              "      <th>cook_time</th>\n",
              "      <td>object</td>\n",
              "    </tr>\n",
              "    <tr>\n",
              "      <th>total_time</th>\n",
              "      <td>object</td>\n",
              "    </tr>\n",
              "    <tr>\n",
              "      <th>servings</th>\n",
              "      <td>int64</td>\n",
              "    </tr>\n",
              "    <tr>\n",
              "      <th>yields</th>\n",
              "      <td>object</td>\n",
              "    </tr>\n",
              "    <tr>\n",
              "      <th>calories</th>\n",
              "      <td>float64</td>\n",
              "    </tr>\n",
              "    <tr>\n",
              "      <th>carbohydrates_g</th>\n",
              "      <td>float64</td>\n",
              "    </tr>\n",
              "    <tr>\n",
              "      <th>sugars_g</th>\n",
              "      <td>float64</td>\n",
              "    </tr>\n",
              "    <tr>\n",
              "      <th>fat_g</th>\n",
              "      <td>float64</td>\n",
              "    </tr>\n",
              "    <tr>\n",
              "      <th>saturated_fat_g</th>\n",
              "      <td>float64</td>\n",
              "    </tr>\n",
              "    <tr>\n",
              "      <th>cholesterol_mg</th>\n",
              "      <td>float64</td>\n",
              "    </tr>\n",
              "    <tr>\n",
              "      <th>protein_g</th>\n",
              "      <td>float64</td>\n",
              "    </tr>\n",
              "    <tr>\n",
              "      <th>dietary_fiber_g</th>\n",
              "      <td>float64</td>\n",
              "    </tr>\n",
              "    <tr>\n",
              "      <th>sodium_mg</th>\n",
              "      <td>float64</td>\n",
              "    </tr>\n",
              "    <tr>\n",
              "      <th>calories_from_fat</th>\n",
              "      <td>float64</td>\n",
              "    </tr>\n",
              "    <tr>\n",
              "      <th>calcium_mg</th>\n",
              "      <td>float64</td>\n",
              "    </tr>\n",
              "    <tr>\n",
              "      <th>iron_mg</th>\n",
              "      <td>float64</td>\n",
              "    </tr>\n",
              "    <tr>\n",
              "      <th>magnesium_mg</th>\n",
              "      <td>float64</td>\n",
              "    </tr>\n",
              "    <tr>\n",
              "      <th>potassium_mg</th>\n",
              "      <td>float64</td>\n",
              "    </tr>\n",
              "    <tr>\n",
              "      <th>zinc_mg</th>\n",
              "      <td>float64</td>\n",
              "    </tr>\n",
              "    <tr>\n",
              "      <th>phosphorus_mg</th>\n",
              "      <td>float64</td>\n",
              "    </tr>\n",
              "    <tr>\n",
              "      <th>vitamin_a_iu_IU</th>\n",
              "      <td>float64</td>\n",
              "    </tr>\n",
              "    <tr>\n",
              "      <th>niacin_equivalents_mg</th>\n",
              "      <td>float64</td>\n",
              "    </tr>\n",
              "    <tr>\n",
              "      <th>vitamin_b6_mg</th>\n",
              "      <td>float64</td>\n",
              "    </tr>\n",
              "    <tr>\n",
              "      <th>vitamin_c_mg</th>\n",
              "      <td>float64</td>\n",
              "    </tr>\n",
              "    <tr>\n",
              "      <th>folate_mcg</th>\n",
              "      <td>float64</td>\n",
              "    </tr>\n",
              "    <tr>\n",
              "      <th>thiamin_mg</th>\n",
              "      <td>float64</td>\n",
              "    </tr>\n",
              "    <tr>\n",
              "      <th>riboflavin_mg</th>\n",
              "      <td>float64</td>\n",
              "    </tr>\n",
              "    <tr>\n",
              "      <th>vitamin_e_iu_IU</th>\n",
              "      <td>float64</td>\n",
              "    </tr>\n",
              "    <tr>\n",
              "      <th>vitamin_k_mcg</th>\n",
              "      <td>float64</td>\n",
              "    </tr>\n",
              "    <tr>\n",
              "      <th>biotin_mcg</th>\n",
              "      <td>float64</td>\n",
              "    </tr>\n",
              "    <tr>\n",
              "      <th>vitamin_b12_mcg</th>\n",
              "      <td>float64</td>\n",
              "    </tr>\n",
              "    <tr>\n",
              "      <th>mono_fat_g</th>\n",
              "      <td>float64</td>\n",
              "    </tr>\n",
              "    <tr>\n",
              "      <th>poly_fat_g</th>\n",
              "      <td>float64</td>\n",
              "    </tr>\n",
              "    <tr>\n",
              "      <th>trans_fatty_acid_g</th>\n",
              "      <td>float64</td>\n",
              "    </tr>\n",
              "    <tr>\n",
              "      <th>omega_3_fatty_acid_g</th>\n",
              "      <td>float64</td>\n",
              "    </tr>\n",
              "    <tr>\n",
              "      <th>omega_6_fatty_acid_g</th>\n",
              "      <td>float64</td>\n",
              "    </tr>\n",
              "    <tr>\n",
              "      <th>instructions_list</th>\n",
              "      <td>object</td>\n",
              "    </tr>\n",
              "    <tr>\n",
              "      <th>image</th>\n",
              "      <td>object</td>\n",
              "    </tr>\n",
              "  </tbody>\n",
              "</table>\n",
              "</div><br><label><b>dtype:</b> object</label>"
            ]
          },
          "metadata": {},
          "execution_count": 8
        }
      ]
    },
    {
      "cell_type": "code",
      "source": [
        "df_recipe.isna().sum()"
      ],
      "metadata": {
        "colab": {
          "base_uri": "https://localhost:8080/",
          "height": 1000
        },
        "id": "birUk87W5IdY",
        "outputId": "c6361dea-9804-4a59-a42a-81e4281b4788"
      },
      "execution_count": 9,
      "outputs": [
        {
          "output_type": "execute_result",
          "data": {
            "text/plain": [
              "title                        0\n",
              "url                          0\n",
              "category                     0\n",
              "author                      39\n",
              "description                  0\n",
              "rating                       0\n",
              "rating_count                 0\n",
              "review_count                 0\n",
              "ingredients                  0\n",
              "directions                   0\n",
              "prep_time                 1985\n",
              "cook_time                 6663\n",
              "total_time                1832\n",
              "servings                     0\n",
              "yields                       1\n",
              "calories                    99\n",
              "carbohydrates_g            130\n",
              "sugars_g                   601\n",
              "fat_g                      383\n",
              "saturated_fat_g           1077\n",
              "cholesterol_mg            4883\n",
              "protein_g                  241\n",
              "dietary_fiber_g           1212\n",
              "sodium_mg                  113\n",
              "calories_from_fat          427\n",
              "calcium_mg                 124\n",
              "iron_mg                    481\n",
              "magnesium_mg               169\n",
              "potassium_mg               121\n",
              "zinc_mg                  32511\n",
              "phosphorus_mg            32513\n",
              "vitamin_a_iu_IU            589\n",
              "niacin_equivalents_mg      590\n",
              "vitamin_b6_mg            32722\n",
              "vitamin_c_mg              3113\n",
              "folate_mcg                 267\n",
              "thiamin_mg                7043\n",
              "riboflavin_mg            32517\n",
              "vitamin_e_iu_IU          32515\n",
              "vitamin_k_mcg            32525\n",
              "biotin_mcg               32597\n",
              "vitamin_b12_mcg          32722\n",
              "mono_fat_g               32511\n",
              "poly_fat_g               32511\n",
              "trans_fatty_acid_g       32519\n",
              "omega_3_fatty_acid_g     32722\n",
              "omega_6_fatty_acid_g     32722\n",
              "instructions_list         7309\n",
              "image                     7307\n",
              "dtype: int64"
            ],
            "text/html": [
              "<div>\n",
              "<style scoped>\n",
              "    .dataframe tbody tr th:only-of-type {\n",
              "        vertical-align: middle;\n",
              "    }\n",
              "\n",
              "    .dataframe tbody tr th {\n",
              "        vertical-align: top;\n",
              "    }\n",
              "\n",
              "    .dataframe thead th {\n",
              "        text-align: right;\n",
              "    }\n",
              "</style>\n",
              "<table border=\"1\" class=\"dataframe\">\n",
              "  <thead>\n",
              "    <tr style=\"text-align: right;\">\n",
              "      <th></th>\n",
              "      <th>0</th>\n",
              "    </tr>\n",
              "  </thead>\n",
              "  <tbody>\n",
              "    <tr>\n",
              "      <th>title</th>\n",
              "      <td>0</td>\n",
              "    </tr>\n",
              "    <tr>\n",
              "      <th>url</th>\n",
              "      <td>0</td>\n",
              "    </tr>\n",
              "    <tr>\n",
              "      <th>category</th>\n",
              "      <td>0</td>\n",
              "    </tr>\n",
              "    <tr>\n",
              "      <th>author</th>\n",
              "      <td>39</td>\n",
              "    </tr>\n",
              "    <tr>\n",
              "      <th>description</th>\n",
              "      <td>0</td>\n",
              "    </tr>\n",
              "    <tr>\n",
              "      <th>rating</th>\n",
              "      <td>0</td>\n",
              "    </tr>\n",
              "    <tr>\n",
              "      <th>rating_count</th>\n",
              "      <td>0</td>\n",
              "    </tr>\n",
              "    <tr>\n",
              "      <th>review_count</th>\n",
              "      <td>0</td>\n",
              "    </tr>\n",
              "    <tr>\n",
              "      <th>ingredients</th>\n",
              "      <td>0</td>\n",
              "    </tr>\n",
              "    <tr>\n",
              "      <th>directions</th>\n",
              "      <td>0</td>\n",
              "    </tr>\n",
              "    <tr>\n",
              "      <th>prep_time</th>\n",
              "      <td>1985</td>\n",
              "    </tr>\n",
              "    <tr>\n",
              "      <th>cook_time</th>\n",
              "      <td>6663</td>\n",
              "    </tr>\n",
              "    <tr>\n",
              "      <th>total_time</th>\n",
              "      <td>1832</td>\n",
              "    </tr>\n",
              "    <tr>\n",
              "      <th>servings</th>\n",
              "      <td>0</td>\n",
              "    </tr>\n",
              "    <tr>\n",
              "      <th>yields</th>\n",
              "      <td>1</td>\n",
              "    </tr>\n",
              "    <tr>\n",
              "      <th>calories</th>\n",
              "      <td>99</td>\n",
              "    </tr>\n",
              "    <tr>\n",
              "      <th>carbohydrates_g</th>\n",
              "      <td>130</td>\n",
              "    </tr>\n",
              "    <tr>\n",
              "      <th>sugars_g</th>\n",
              "      <td>601</td>\n",
              "    </tr>\n",
              "    <tr>\n",
              "      <th>fat_g</th>\n",
              "      <td>383</td>\n",
              "    </tr>\n",
              "    <tr>\n",
              "      <th>saturated_fat_g</th>\n",
              "      <td>1077</td>\n",
              "    </tr>\n",
              "    <tr>\n",
              "      <th>cholesterol_mg</th>\n",
              "      <td>4883</td>\n",
              "    </tr>\n",
              "    <tr>\n",
              "      <th>protein_g</th>\n",
              "      <td>241</td>\n",
              "    </tr>\n",
              "    <tr>\n",
              "      <th>dietary_fiber_g</th>\n",
              "      <td>1212</td>\n",
              "    </tr>\n",
              "    <tr>\n",
              "      <th>sodium_mg</th>\n",
              "      <td>113</td>\n",
              "    </tr>\n",
              "    <tr>\n",
              "      <th>calories_from_fat</th>\n",
              "      <td>427</td>\n",
              "    </tr>\n",
              "    <tr>\n",
              "      <th>calcium_mg</th>\n",
              "      <td>124</td>\n",
              "    </tr>\n",
              "    <tr>\n",
              "      <th>iron_mg</th>\n",
              "      <td>481</td>\n",
              "    </tr>\n",
              "    <tr>\n",
              "      <th>magnesium_mg</th>\n",
              "      <td>169</td>\n",
              "    </tr>\n",
              "    <tr>\n",
              "      <th>potassium_mg</th>\n",
              "      <td>121</td>\n",
              "    </tr>\n",
              "    <tr>\n",
              "      <th>zinc_mg</th>\n",
              "      <td>32511</td>\n",
              "    </tr>\n",
              "    <tr>\n",
              "      <th>phosphorus_mg</th>\n",
              "      <td>32513</td>\n",
              "    </tr>\n",
              "    <tr>\n",
              "      <th>vitamin_a_iu_IU</th>\n",
              "      <td>589</td>\n",
              "    </tr>\n",
              "    <tr>\n",
              "      <th>niacin_equivalents_mg</th>\n",
              "      <td>590</td>\n",
              "    </tr>\n",
              "    <tr>\n",
              "      <th>vitamin_b6_mg</th>\n",
              "      <td>32722</td>\n",
              "    </tr>\n",
              "    <tr>\n",
              "      <th>vitamin_c_mg</th>\n",
              "      <td>3113</td>\n",
              "    </tr>\n",
              "    <tr>\n",
              "      <th>folate_mcg</th>\n",
              "      <td>267</td>\n",
              "    </tr>\n",
              "    <tr>\n",
              "      <th>thiamin_mg</th>\n",
              "      <td>7043</td>\n",
              "    </tr>\n",
              "    <tr>\n",
              "      <th>riboflavin_mg</th>\n",
              "      <td>32517</td>\n",
              "    </tr>\n",
              "    <tr>\n",
              "      <th>vitamin_e_iu_IU</th>\n",
              "      <td>32515</td>\n",
              "    </tr>\n",
              "    <tr>\n",
              "      <th>vitamin_k_mcg</th>\n",
              "      <td>32525</td>\n",
              "    </tr>\n",
              "    <tr>\n",
              "      <th>biotin_mcg</th>\n",
              "      <td>32597</td>\n",
              "    </tr>\n",
              "    <tr>\n",
              "      <th>vitamin_b12_mcg</th>\n",
              "      <td>32722</td>\n",
              "    </tr>\n",
              "    <tr>\n",
              "      <th>mono_fat_g</th>\n",
              "      <td>32511</td>\n",
              "    </tr>\n",
              "    <tr>\n",
              "      <th>poly_fat_g</th>\n",
              "      <td>32511</td>\n",
              "    </tr>\n",
              "    <tr>\n",
              "      <th>trans_fatty_acid_g</th>\n",
              "      <td>32519</td>\n",
              "    </tr>\n",
              "    <tr>\n",
              "      <th>omega_3_fatty_acid_g</th>\n",
              "      <td>32722</td>\n",
              "    </tr>\n",
              "    <tr>\n",
              "      <th>omega_6_fatty_acid_g</th>\n",
              "      <td>32722</td>\n",
              "    </tr>\n",
              "    <tr>\n",
              "      <th>instructions_list</th>\n",
              "      <td>7309</td>\n",
              "    </tr>\n",
              "    <tr>\n",
              "      <th>image</th>\n",
              "      <td>7307</td>\n",
              "    </tr>\n",
              "  </tbody>\n",
              "</table>\n",
              "</div><br><label><b>dtype:</b> int64</label>"
            ]
          },
          "metadata": {},
          "execution_count": 9
        }
      ]
    },
    {
      "cell_type": "code",
      "source": [
        "# Create a unique ID for each recipe\n",
        "df_recipe[\"recipe_id\"] = df_recipe[\"image\"].astype(str).apply(\n",
        "    lambda x: hashlib.md5(x.encode()).hexdigest()[:10]\n",
        ")"
      ],
      "metadata": {
        "id": "YGgnmEOC5rXg"
      },
      "execution_count": 12,
      "outputs": []
    },
    {
      "cell_type": "code",
      "source": [
        "essential_cols = [\n",
        "    \"recipe_id\", \"title\", \"ingredients\", \"directions\",\n",
        "    \"prep_time\", \"cook_time\", \"total_time\", \"servings\",\n",
        "    \"image\", \"category\",'instructions_list','calories', 'carbohydrates_g', 'sugars_g', 'fat_g',\n",
        "    'protein_g',  'url', \"rating\"\n",
        "]"
      ],
      "metadata": {
        "id": "EJ8wOvHz39Fc"
      },
      "execution_count": 13,
      "outputs": []
    },
    {
      "cell_type": "code",
      "source": [
        "df_recipe = df_recipe[essential_cols]"
      ],
      "metadata": {
        "id": "akPqqhbD4bFp"
      },
      "execution_count": 14,
      "outputs": []
    },
    {
      "cell_type": "code",
      "source": [
        "nutritional_cols = [\n",
        "    'calories', 'carbohydrates_g', 'sugars_g', 'fat_g',\n",
        "    'protein_g'\n",
        "]\n",
        "\n",
        "# Calculate mean per category\n",
        "category_means = df_recipe.groupby('category')[nutritional_cols].mean()\n",
        "\n",
        "# Impute missing values\n",
        "for col in nutritional_cols:\n",
        "    df_recipe[col] = df_recipe.apply(\n",
        "        lambda row: category_means.loc[row['category'], col] if pd.isna(row[col]) else row[col],\n",
        "        axis=1\n",
        "    )\n",
        "\n",
        "print(\"Null counts after cleaning:\")\n",
        "print(df_recipe[nutritional_cols].isna().sum())"
      ],
      "metadata": {
        "colab": {
          "base_uri": "https://localhost:8080/"
        },
        "id": "HLYXDXpr5mKF",
        "outputId": "75c76507-ca0a-4660-872c-768780106e4b"
      },
      "execution_count": 16,
      "outputs": [
        {
          "output_type": "stream",
          "name": "stdout",
          "text": [
            "Null counts after cleaning:\n",
            "calories           0\n",
            "carbohydrates_g    0\n",
            "sugars_g           0\n",
            "fat_g              0\n",
            "protein_g          0\n",
            "dtype: int64\n"
          ]
        }
      ]
    },
    {
      "cell_type": "markdown",
      "source": [
        "## What We’re Doing with `classify_diet`\n",
        "\n",
        "### The Goal\n",
        "We’re creating a system to label each recipe in our entry dataset with one of 6 diet categories—like `LCHFib` (Low-Calorie High-Fiber) or `Junk`—based on its nutritional stats (calories, carbs, sugars, fat, protein). This `classify_diet` function is our rule-based chef, figuring out which diet fits best.\n",
        "\n",
        "### Why It Matters\n",
        "- **Labeling the Data**: Our scraped `recipe.csv` might not have diet labels—or they’re messy. This gives us a solid `diet` column to work with.\n",
        "- **Two-Model Power**:\n",
        "  - **Nutrition Model**: Uses these labels to train on 1x5 “nutrition images” and predict diets.\n",
        "  - **CBIR Model**: Gets context—do similar images match diet-wise? (Bonus check.)\n",
        "- **3-Day Crunch**: With time tight, this quick scoring beats manual labeling or hunting for a perfect dataset.\n",
        "\n",
        "### How It Works\n",
        "- **Diet Profiles**: Each diet (e.g., `HCLF` = high carbs, low fat) has a nutritional “vibe.”\n",
        "- **Scoring**: We rate how well a recipe’s numbers match each diet. High carbs boost `HCLF`, low fat helps `LCHFib`, tons of sugar screams `Junk`. Highest score wins.\n",
        "- **Rules**: Simple cutoffs (e.g., carbs ≥ 40g = high) guide the scoring—rough but effective.\n",
        "\n",
        "### Where It Fits\n",
        "- **Step 1**: Builds `recipe.csv` with diet labels for all recipes.\n",
        "- **Step 2**: Feeds the nutrition model (training target) and CBIR model (validation bonus).\n",
        "- **Step 3**: Lets us check model predictions against these rules later.\n",
        "\n",
        "This is our fast track to a labeled dataset—ready to roll for FoodLens!"
      ],
      "metadata": {
        "id": "WVVlkS7a6geT"
      }
    },
    {
      "cell_type": "code",
      "source": [
        "# Improved scoring function\n",
        "def classify_diet(row):\n",
        "    cals = row.get('calories', 0)\n",
        "    carbs = row.get('carbohydrates_g', 0)\n",
        "    sugars = row.get('sugars_g', 0)\n",
        "    fat = row.get('fat_g', 0)\n",
        "    prot = row.get('protein_g', 0)\n",
        "\n",
        "    scores = {\n",
        "        'HCLF': 0, 'HPLC': 0, 'Balanced': 0, 'LCHF': 0, 'LCHFib': 0, 'Junk': 0\n",
        "    }\n",
        "\n",
        "    # Carbs Scoring\n",
        "    if carbs >= 40:\n",
        "        scores['HCLF'] += 3\n",
        "        scores['HPLC'] -= 2\n",
        "        scores['LCHF'] -= 3\n",
        "    elif carbs <= 15:\n",
        "        scores['HPLC'] += 3\n",
        "        scores['LCHF'] += 3\n",
        "        scores['HCLF'] -= 3\n",
        "    else:\n",
        "        scores['Balanced'] += 2\n",
        "\n",
        "    # Fat Scoring\n",
        "    if fat <= 10:\n",
        "        scores['HCLF'] += 2\n",
        "        scores['LCHFib'] += 2\n",
        "        scores['Balanced'] += 1\n",
        "    elif fat >= 15:\n",
        "        scores['LCHF'] += 3\n",
        "        scores['Junk'] += 2\n",
        "    else:\n",
        "        scores['Balanced'] += 1\n",
        "\n",
        "    # Protein Scoring\n",
        "    if prot >= 20:\n",
        "        scores['HPLC'] += 3\n",
        "        scores['HCLF'] -= 1\n",
        "    elif 10 <= prot <= 20:\n",
        "        scores['Balanced'] += 2\n",
        "        scores['LCHF'] += 2\n",
        "\n",
        "    # Calories Scoring\n",
        "    if cals <= 200:\n",
        "        scores['LCHFib'] += 3\n",
        "        scores['Junk'] -= 2\n",
        "    elif cals > 300:\n",
        "        scores['Junk'] += 3\n",
        "        scores['LCHFib'] -= 2\n",
        "\n",
        "    # Sugar Scoring\n",
        "    if sugars >= 25:\n",
        "        scores['Junk'] += 3\n",
        "        scores['HCLF'] -= 2\n",
        "        scores['HPLC'] -= 2\n",
        "        scores['LCHF'] -= 2\n",
        "    elif sugars <= 10:\n",
        "        scores['LCHFib'] += 2\n",
        "\n",
        "    return max(scores, key=scores.get)"
      ],
      "metadata": {
        "id": "pxOKivTF51B9"
      },
      "execution_count": 17,
      "outputs": []
    },
    {
      "cell_type": "code",
      "source": [
        "df_recipe['diet'] = df_recipe.apply(classify_diet, axis=1)"
      ],
      "metadata": {
        "id": "-iycFk9U6oUP"
      },
      "execution_count": 18,
      "outputs": []
    },
    {
      "cell_type": "code",
      "source": [
        "df_recipe['diet'].value_counts()"
      ],
      "metadata": {
        "colab": {
          "base_uri": "https://localhost:8080/",
          "height": 303
        },
        "id": "ojVLqmkn6rV7",
        "outputId": "03bd5a03-fd9c-46ad-d0f1-7491fee1074a"
      },
      "execution_count": 19,
      "outputs": [
        {
          "output_type": "execute_result",
          "data": {
            "text/plain": [
              "diet\n",
              "Junk        10098\n",
              "LCHFib       9970\n",
              "LCHF         4356\n",
              "HPLC         3419\n",
              "Balanced     2759\n",
              "HCLF         2120\n",
              "Name: count, dtype: int64"
            ],
            "text/html": [
              "<div>\n",
              "<style scoped>\n",
              "    .dataframe tbody tr th:only-of-type {\n",
              "        vertical-align: middle;\n",
              "    }\n",
              "\n",
              "    .dataframe tbody tr th {\n",
              "        vertical-align: top;\n",
              "    }\n",
              "\n",
              "    .dataframe thead th {\n",
              "        text-align: right;\n",
              "    }\n",
              "</style>\n",
              "<table border=\"1\" class=\"dataframe\">\n",
              "  <thead>\n",
              "    <tr style=\"text-align: right;\">\n",
              "      <th></th>\n",
              "      <th>count</th>\n",
              "    </tr>\n",
              "    <tr>\n",
              "      <th>diet</th>\n",
              "      <th></th>\n",
              "    </tr>\n",
              "  </thead>\n",
              "  <tbody>\n",
              "    <tr>\n",
              "      <th>Junk</th>\n",
              "      <td>10098</td>\n",
              "    </tr>\n",
              "    <tr>\n",
              "      <th>LCHFib</th>\n",
              "      <td>9970</td>\n",
              "    </tr>\n",
              "    <tr>\n",
              "      <th>LCHF</th>\n",
              "      <td>4356</td>\n",
              "    </tr>\n",
              "    <tr>\n",
              "      <th>HPLC</th>\n",
              "      <td>3419</td>\n",
              "    </tr>\n",
              "    <tr>\n",
              "      <th>Balanced</th>\n",
              "      <td>2759</td>\n",
              "    </tr>\n",
              "    <tr>\n",
              "      <th>HCLF</th>\n",
              "      <td>2120</td>\n",
              "    </tr>\n",
              "  </tbody>\n",
              "</table>\n",
              "</div><br><label><b>dtype:</b> int64</label>"
            ]
          },
          "metadata": {},
          "execution_count": 19
        }
      ]
    },
    {
      "cell_type": "code",
      "source": [
        "import pandas as pd\n",
        "import numpy as np\n",
        "import matplotlib.pyplot as plt\n",
        "import seaborn as sns\n",
        "\n",
        "def analyze_nutrition_columns(df):\n",
        "    # List of nutrition columns to analyze\n",
        "    nutrition_cols = [\n",
        "        'calories',\n",
        "        'carbohydrates_g',\n",
        "        'sugars_g',\n",
        "        'fat_g',\n",
        "        'protein_g',\n",
        "    ]\n",
        "\n",
        "    # 1. Basic Statistics\n",
        "    print(\"Basic Statistics:\")\n",
        "    stats = df[nutrition_cols].describe(percentiles=[.25, .5, .75, .95]).T\n",
        "    stats['IQR'] = stats['75%'] - stats['25%']\n",
        "    stats['CV'] = stats['std'] / stats['mean']  # Coefficient of Variation\n",
        "    print(stats[['mean', 'std', 'min', '25%', '50%', '75%', '95%', 'max', 'IQR', 'CV']])\n",
        "\n",
        "    # 2. Visualization\n",
        "    plt.figure(figsize=(15, 10))\n",
        "\n",
        "    # Histograms\n",
        "    for i, col in enumerate(nutrition_cols, 1):\n",
        "        plt.subplot(3, 3, i)\n",
        "        sns.histplot(df[col], kde=True)\n",
        "        plt.title(f'Distribution of {col}')\n",
        "        plt.xlabel('')\n",
        "    plt.tight_layout()\n",
        "    plt.show()\n",
        "\n",
        "    # Boxplots\n",
        "    plt.figure(figsize=(12, 6))\n",
        "    df_melt = df[nutrition_cols].melt(var_name='Columns', value_name='Values')\n",
        "    sns.boxplot(x='Columns', y='Values', data=df_melt)\n",
        "    plt.xticks(rotation=45)\n",
        "    plt.title('Nutrition Columns Boxplots')\n",
        "    plt.show()\n",
        "\n",
        "    # 3. Correlation Analysis\n",
        "    corr_matrix = df[nutrition_cols].corr()\n",
        "    plt.figure(figsize=(10, 8))\n",
        "    sns.heatmap(corr_matrix, annot=True, cmap='coolwarm', fmt=\".2f\")\n",
        "    plt.title('Nutrition Columns Correlation Matrix')\n",
        "    plt.show()\n",
        "\n",
        "# Usage\n",
        "analyze_nutrition_columns(df_recipe)"
      ],
      "metadata": {
        "colab": {
          "base_uri": "https://localhost:8080/",
          "height": 1000
        },
        "id": "lipNiG4p6uDE",
        "outputId": "e34394dc-4dd5-44d4-d7f8-e9cc3e38f790"
      },
      "execution_count": 23,
      "outputs": [
        {
          "output_type": "stream",
          "name": "stdout",
          "text": [
            "Basic Statistics:\n",
            "                       mean         std  min    25%    50%    75%    95%  \\\n",
            "calories         323.985038  212.255646  0.1  173.4  287.2  428.0  705.6   \n",
            "carbohydrates_g   29.386852   24.059155  0.0   11.8   25.2   41.2   71.6   \n",
            "sugars_g          10.290647   13.082826  0.0    2.2    5.3   13.3   36.7   \n",
            "fat_g             16.928359   14.560073  0.0    7.0   13.6   23.1   43.4   \n",
            "protein_g         14.503453   14.224607  0.0    3.8    9.2   22.6   41.1   \n",
            "\n",
            "                    max    IQR        CV  \n",
            "calories         4709.2  254.6  0.655140  \n",
            "carbohydrates_g   578.2   29.4  0.818705  \n",
            "sugars_g          212.7   11.1  1.271332  \n",
            "fat_g             383.9   16.1  0.860100  \n",
            "protein_g         273.2   18.8  0.980774  \n"
          ]
        },
        {
          "output_type": "display_data",
          "data": {
            "text/plain": [
              "<Figure size 1500x1000 with 5 Axes>"
            ],
            "image/png": "[encoded data removed]"
          },
          "metadata": {}
        },
        {
          "output_type": "display_data",
          "data": {
            "text/plain": [
              "<Figure size 1200x600 with 1 Axes>"
            ],
            "image/png": "[encoded data removed]"
          },
          "metadata": {}
        },
        {
          "output_type": "display_data",
          "data": {
            "text/plain": [
              "<Figure size 1000x800 with 2 Axes>"
            ],
            "image/png": "[encoded data removed]"
          },
          "metadata": {}
        }
      ]
    },
    {
      "cell_type": "code",
      "source": [
        "df_recipe.to_csv(os.path.join(DIR, \"data/recipes_classified.csv\"), index=False)"
      ],
      "metadata": {
        "id": "1VMPQQXI6xHS"
      },
      "execution_count": 24,
      "outputs": []
    },
    {
      "cell_type": "code",
      "source": [
        "len(df_recipe)"
      ],
      "metadata": {
        "colab": {
          "base_uri": "https://localhost:8080/"
        },
        "id": "_-XT5v3W7Nra",
        "outputId": "854feb41-178e-4845-87f0-e1fe3228c023"
      },
      "execution_count": 25,
      "outputs": [
        {
          "output_type": "execute_result",
          "data": {
            "text/plain": [
              "32722"
            ]
          },
          "metadata": {},
          "execution_count": 25
        }
      ]
    },
    {
      "cell_type": "markdown",
      "source": [
        "## Scraping Concept: Downloading Images\n",
        "\n",
        "### The Goal\n",
        "We’re grabbing images for our ~32,722 recipes (for now, aiming for 45K+) to pair with the nutritional data in `recipe.csv`. This code downloads each recipe’s image from a URL (in `final.csv`) and saves it as a 256x256 JPG in `DIR/images/`. It’s the visual fuel for our CBIR (Content-Based Image Retrieval) model.\n",
        "\n",
        "### Why We’re Doing It\n",
        "- **Complete Dataset**: Our two-model setup needs images for CBIR (visual similarity) and nutrition stats for classification. Scraping images ties them to `recipe_id` in `final.csv`.\n",
        "- **Fresh Start**: If `final.csv` has URLs but no local images yet, this builds our `images/` folder from scratch.\n",
        "- **3-Day Hustle**: With time tight, automating this download beats manually collecting 32K+ pics—lets us focus on training.\n",
        "\n",
        "### How It Works\n",
        "- **Source**: We read `final.csv` (from `DIR/data/`), which has `recipe_id` and `image` (URL) columns—likely scraped earlier from a recipe site (e.g., AllRecipes).\n",
        "- **Download**: For each row, we hit the URL, grab the image, resize it to 256x256, and save it as `[recipe_id].jpg` in `DIR/images/`.\n",
        "- **Tracking**: A progress bar (`tqdm`) shows how many of the 32,722 we’ve nabbed, and we flag fails (e.g., bad URLs) to clean up later.\n",
        "\n",
        "### Where It Fits\n",
        "- **Step 1**: Builds the image half of our dataset—`DIR/images/` gets populated with 32K+ JPGs linked to `recipe.csv`.\n",
        "- **Step 2**: Feeds the CBIR model—`CBIRCAutoEncoder_v2` uses these for retrieval.\n",
        "- **Step 3**: Ties back to nutrition data via `recipe_id`, letting both models play nice.\n",
        "\n",
        "This is our quick-and-dirty way to stockpile visuals—32,722 down, more to go!"
      ],
      "metadata": {
        "id": "qiYTH-ZX7kI_"
      }
    },
    {
      "cell_type": "code",
      "source": [
        "IMAGE_SIZE = (512, 512)\n",
        "remove = [] # recipes to store which has error"
      ],
      "metadata": {
        "id": "tNcdJKjR7Kjd"
      },
      "execution_count": 26,
      "outputs": []
    },
    {
      "cell_type": "code",
      "source": [
        "# Download images with progress tracking\n",
        "def download_save_image(row):\n",
        "    try:\n",
        "        img_path = Path(DIR + 'images/' + f\"{row['recipe_id']}.jpg\")\n",
        "        # print(img_path)\n",
        "\n",
        "        if img_path.exists():  # Skip already downloaded\n",
        "            return True\n",
        "\n",
        "        response = requests.get(row['image'], timeout=15)\n",
        "        img = Image.open(BytesIO(response.content))\n",
        "        img = img.convert('RGB').resize(IMAGE_SIZE)\n",
        "        img.save(img_path, 'JPEG', quality=90)\n",
        "        return True\n",
        "    except Exception as e:\n",
        "        print(f\"Failed {row['recipe_id']}: {str(e)}\")\n",
        "        remove.append(row['recipe_id'])\n",
        "        return False"
      ],
      "metadata": {
        "id": "5TUngWZ67ufm"
      },
      "execution_count": null,
      "outputs": []
    },
    {
      "cell_type": "code",
      "source": [
        "df_recipe = pd.read_csv(DIR + 'data/recipes_classified.csv')\n",
        "remove = []  # List to store failed downloads\n",
        "IMAGE_DIR = Path(DIR) / \"images\"\n",
        "IMAGE_DIR.mkdir(parents=True, exist_ok=True)  # Ensure directory exists\n",
        "\n",
        "# Function to download and save an image\n",
        "def download_save_image(row):\n",
        "    try:\n",
        "        img_path = IMAGE_DIR / f\"{row['recipe_id']}.jpg\"\n",
        "        if img_path.exists():  # Skip if already downloaded\n",
        "            return row['recipe_id'], True\n",
        "\n",
        "        response = requests.get(row['image'], timeout=15)\n",
        "        if response.status_code == 200:\n",
        "            img = Image.open(BytesIO(response.content))\n",
        "            img = img.convert('RGB').resize(IMAGE_SIZE)\n",
        "            img.save(img_path, 'JPEG', quality=90)\n",
        "            return row['recipe_id'], True\n",
        "        else:\n",
        "            raise Exception(f\"HTTP {response.status_code}\")\n",
        "    except Exception as e:\n",
        "        return row['recipe_id'], False  # Return failed recipe ID"
      ],
      "metadata": {
        "id": "8K6d_vxp7xss"
      },
      "execution_count": 28,
      "outputs": []
    },
    {
      "cell_type": "code",
      "source": [
        "success_mask = []\n",
        "for _, row in tqdm(df_recipe.iterrows(), total=len(df_recipe)):\n",
        "    success_mask.append(download_save_image(row))"
      ],
      "metadata": {
        "colab": {
          "base_uri": "https://localhost:8080/"
        },
        "id": "D7faRULp72lL",
        "outputId": "3d3f9e42-5d4e-4b7f-b5e5-8010f2034c32"
      },
      "execution_count": 29,
      "outputs": [
        {
          "output_type": "stream",
          "name": "stderr",
          "text": [
            "100%|██████████| 32722/32722 [00:20<00:00, 1619.51it/s]\n"
          ]
        }
      ]
    },
    {
      "cell_type": "code",
      "source": [
        "print(\"Recipies to remove : \", remove)"
      ],
      "metadata": {
        "colab": {
          "base_uri": "https://localhost:8080/"
        },
        "id": "gbMjS3a17-J9",
        "outputId": "4f6bb70f-6e15-436a-fc62-8928c69689d0"
      },
      "execution_count": 30,
      "outputs": [
        {
          "output_type": "stream",
          "name": "stdout",
          "text": [
            "Recipies to remove :  []\n"
          ]
        }
      ]
    },
    {
      "cell_type": "code",
      "source": [
        "df_recipe = df_recipe[~df_recipe['recipe_id'].isin(remove)]"
      ],
      "metadata": {
        "id": "Meby66Jt8Ge_"
      },
      "execution_count": 32,
      "outputs": []
    },
    {
      "cell_type": "code",
      "source": [
        "print(f\"Successfully downloaded {len(df_recipe)} images\")"
      ],
      "metadata": {
        "colab": {
          "base_uri": "https://localhost:8080/"
        },
        "id": "m08r7OjB8Qqa",
        "outputId": "acfe075d-a0cf-496f-8691-9ed930971d43"
      },
      "execution_count": 34,
      "outputs": [
        {
          "output_type": "stream",
          "name": "stdout",
          "text": [
            "Successfully downloaded 32722 images\n"
          ]
        }
      ]
    },
    {
      "cell_type": "markdown",
      "source": [
        "## Data Augmentation Concept\n",
        "\n",
        "### The Goal\n",
        "We’re expanding up our dataset by creating new, tweaked versions of our recipe images to hit a target of 10,000 samples per diet class (`Balanced`, `HPLC`, `LCHF`, `HCLF`). This augmentation pipeline takes the original 256x256 images from `DIR/images/` and generates extra ones with flips, rotations, and color shifts, saving them to `DIR/images_aug/`.\n",
        "\n",
        "### Why We’re Doing It\n",
        "- **Balance the Classes**: Our ~32,722 images (so far) might not split evenly across the 6 diet classes. Augmentation fills gaps—e.g., if `HCLF` has 5K, we add 5K more to hit 10K.\n",
        "- **Better CBIR**: More images mean our CBIR model (`CBIRCAutoEncoder_v2`) learns richer visual patterns, improving retrieval accuracy.\n",
        "- **3-Day Push**: With time short, this is a fast way to grow the dataset without scraping more—synthetic but effective.\n",
        "\n",
        "### How It Works\n",
        "- **Transformations**: We randomly flip images horizontally (50% chance), rotate them up to 15 degrees, and tweak brightness (±20%). This mimics natural recipe photo variations.\n",
        "- **Process**: For each under-target class, we pick original images, augment them, and save new copies (e.g., `123.jpg` → `123_aug1.jpg`). Each gets a new `recipe_id` but keeps its diet label.\n",
        "- **Scale**: We stop at 10K per class—40K total for these 4, leaving `LCHFib` and `Junk` for later (or they’re already good).\n",
        "\n",
        "### Where It Fits\n",
        "- **Step 1**: Boosts `recipe.csv`—adds rows with new image paths and IDs, linked to `images_aug/`.\n",
        "- **Step 2**: Feeds the CBIR model—more diverse images for training and retrieval.\n",
        "- **Step 3**: Keeps nutrition data tied via `recipe_id`, so the nutrition model isn’t affected—just CBIR gets the upgrade.\n",
        "\n",
        "This is our shortcut to a bigger, balanced dataset—visual variety on lock!"
      ],
      "metadata": {
        "id": "TZCTtw5w8y5_"
      }
    },
    {
      "cell_type": "code",
      "source": [
        "import torchvision.transforms as transforms\n",
        "import numpy as np\n",
        "import concurrent.futures\n",
        "\n",
        "IMAGE_DIR = Path(DIR) / 'images/'\n",
        "IMG_OUT_DIR = Path(DIR) / 'images_aug/'\n",
        "# Image augmentation pipeline\n",
        "augment = transforms.Compose([\n",
        "    transforms.RandomHorizontalFlip(p=0.5),\n",
        "    transforms.RandomRotation(15),\n",
        "    transforms.ColorJitter(brightness=0.2),\n",
        "    transforms.ToTensor(),\n",
        "    transforms.ToPILImage()\n",
        "])\n",
        "\n",
        "\n",
        "TARGET_SIZE = 10000\n",
        "classes = ['Balanced', 'HPLC', 'LCHF', 'HCLF']\n",
        "augmented_data = []"
      ],
      "metadata": {
        "id": "DUQsCIrK8-gR"
      },
      "execution_count": 37,
      "outputs": []
    },
    {
      "cell_type": "code",
      "source": [
        "df_recipe.sample()"
      ],
      "metadata": {
        "colab": {
          "base_uri": "https://localhost:8080/",
          "height": 170
        },
        "id": "rpUFOqo89MBa",
        "outputId": "e6ee2968-eee7-4a66-b55f-6f6d44a7f8ac"
      },
      "execution_count": 39,
      "outputs": [
        {
          "output_type": "execute_result",
          "data": {
            "text/plain": [
              "        recipe_id              title  \\\n",
              "25013  22ebb75b1e  Maple Glazed Ribs   \n",
              "\n",
              "                                             ingredients  \\\n",
              "25013  3 pounds baby back pork ribs ; ¾ cup maple syr...   \n",
              "\n",
              "                                              directions prep_time  \\\n",
              "25013  Place ribs in a large pot, and cover with wate...   15 mins   \n",
              "\n",
              "          cook_time     total_time  servings  \\\n",
              "25013  1 hr 25 mins  3 hrs 40 mins         6   \n",
              "\n",
              "                                                   image          category  \\\n",
              "25013  https://www.allrecipes.com/thmb/OauPijk98_KD3g...  meat-and-poultry   \n",
              "\n",
              "                                       instructions_list  calories  \\\n",
              "25013  ['Place ribs in a large pot, and cover with wa...     485.2   \n",
              "\n",
              "       carbohydrates_g  sugars_g  fat_g  protein_g  \\\n",
              "25013             30.5      14.3   29.5       24.2   \n",
              "\n",
              "                                                     url  rating  diet  \n",
              "25013  https://www.allrecipes.com/recipe/14503/maple-...    4.56  Junk  "
            ],
            "text/html": [
              "\n",
              "  <div id=\"df-a57801fa-24d6-4e07-97b1-8e45f722704e\" class=\"colab-df-container\">\n",
              "    <div>\n",
              "<style scoped>\n",
              "    .dataframe tbody tr th:only-of-type {\n",
              "        vertical-align: middle;\n",
              "    }\n",
              "\n",
              "    .dataframe tbody tr th {\n",
              "        vertical-align: top;\n",
              "    }\n",
              "\n",
              "    .dataframe thead th {\n",
              "        text-align: right;\n",
              "    }\n",
              "</style>\n",
              "<table border=\"1\" class=\"dataframe\">\n",
              "  <thead>\n",
              "    <tr style=\"text-align: right;\">\n",
              "      <th></th>\n",
              "      <th>recipe_id</th>\n",
              "      <th>title</th>\n",
              "      <th>ingredients</th>\n",
              "      <th>directions</th>\n",
              "      <th>prep_time</th>\n",
              "      <th>cook_time</th>\n",
              "      <th>total_time</th>\n",
              "      <th>servings</th>\n",
              "      <th>image</th>\n",
              "      <th>category</th>\n",
              "      <th>instructions_list</th>\n",
              "      <th>calories</th>\n",
              "      <th>carbohydrates_g</th>\n",
              "      <th>sugars_g</th>\n",
              "      <th>fat_g</th>\n",
              "      <th>protein_g</th>\n",
              "      <th>url</th>\n",
              "      <th>rating</th>\n",
              "      <th>diet</th>\n",
              "    </tr>\n",
              "  </thead>\n",
              "  <tbody>\n",
              "    <tr>\n",
              "      <th>25013</th>\n",
              "      <td>22ebb75b1e</td>\n",
              "      <td>Maple Glazed Ribs</td>\n",
              "      <td>3 pounds baby back pork ribs ; ¾ cup maple syr...</td>\n",
              "      <td>Place ribs in a large pot, and cover with wate...</td>\n",
              "      <td>15 mins</td>\n",
              "      <td>1 hr 25 mins</td>\n",
              "      <td>3 hrs 40 mins</td>\n",
              "      <td>6</td>\n",
              "      <td>https://www.allrecipes.com/thmb/OauPijk98_KD3g...</td>\n",
              "      <td>meat-and-poultry</td>\n",
              "      <td>['Place ribs in a large pot, and cover with wa...</td>\n",
              "      <td>485.2</td>\n",
              "      <td>30.5</td>\n",
              "      <td>14.3</td>\n",
              "      <td>29.5</td>\n",
              "      <td>24.2</td>\n",
              "      <td>https://www.allrecipes.com/recipe/14503/maple-...</td>\n",
              "      <td>4.56</td>\n",
              "      <td>Junk</td>\n",
              "    </tr>\n",
              "  </tbody>\n",
              "</table>\n",
              "</div>\n",
              "    <div class=\"colab-df-buttons\">\n",
              "\n",
              "  <div class=\"colab-df-container\">\n",
              "    <button class=\"colab-df-convert\" onclick=\"convertToInteractive('df-a57801fa-24d6-4e07-97b1-8e45f722704e')\"\n",
              "            title=\"Convert this dataframe to an interactive table.\"\n",
              "            style=\"display:none;\">\n",
              "\n",
              "  <svg xmlns=\"http://www.w3.org/2000/svg\" height=\"24px\" viewBox=\"0 -960 960 960\">\n",
              "    <path d=\"M120-120v-720h720v720H120Zm60-500h600v-160H180v160Zm220 220h160v-160H400v160Zm0 220h160v-160H400v160ZM180-400h160v-160H180v160Zm440 0h160v-160H620v160ZM180-180h160v-160H180v160Zm440 0h160v-160H620v160Z\"/>\n",
              "  </svg>\n",
              "    </button>\n",
              "\n",
              "  <style>\n",
              "    .colab-df-container {\n",
              "      display:flex;\n",
              "      gap: 12px;\n",
              "    }\n",
              "\n",
              "    .colab-df-convert {\n",
              "      background-color: #E8F0FE;\n",
              "      border: none;\n",
              "      border-radius: 50%;\n",
              "      cursor: pointer;\n",
              "      display: none;\n",
              "      fill: #1967D2;\n",
              "      height: 32px;\n",
              "      padding: 0 0 0 0;\n",
              "      width: 32px;\n",
              "    }\n",
              "\n",
              "    .colab-df-convert:hover {\n",
              "      background-color: #E2EBFA;\n",
              "      box-shadow: 0px 1px 2px rgba(60, 64, 67, 0.3), 0px 1px 3px 1px rgba(60, 64, 67, 0.15);\n",
              "      fill: #174EA6;\n",
              "    }\n",
              "\n",
              "    .colab-df-buttons div {\n",
              "      margin-bottom: 4px;\n",
              "    }\n",
              "\n",
              "    [theme=dark] .colab-df-convert {\n",
              "      background-color: #3B4455;\n",
              "      fill: #D2E3FC;\n",
              "    }\n",
              "\n",
              "    [theme=dark] .colab-df-convert:hover {\n",
              "      background-color: #434B5C;\n",
              "      box-shadow: 0px 1px 3px 1px rgba(0, 0, 0, 0.15);\n",
              "      filter: drop-shadow(0px 1px 2px rgba(0, 0, 0, 0.3));\n",
              "      fill: #FFFFFF;\n",
              "    }\n",
              "  </style>\n",
              "\n",
              "    <script>\n",
              "      const buttonEl =\n",
              "        document.querySelector('#df-a57801fa-24d6-4e07-97b1-8e45f722704e button.colab-df-convert');\n",
              "      buttonEl.style.display =\n",
              "        google.colab.kernel.accessAllowed ? 'block' : 'none';\n",
              "\n",
              "      async function convertToInteractive(key) {\n",
              "        const element = document.querySelector('#df-a57801fa-24d6-4e07-97b1-8e45f722704e');\n",
              "        const dataTable =\n",
              "          await google.colab.kernel.invokeFunction('convertToInteractive',\n",
              "                                                    [key], {});\n",
              "        if (!dataTable) return;\n",
              "\n",
              "        const docLinkHtml = 'Like what you see? Visit the ' +\n",
              "          '<a target=\"_blank\" href=https://colab.research.google.com/notebooks/data_table.ipynb>data table notebook</a>'\n",
              "          + ' to learn more about interactive tables.';\n",
              "        element.innerHTML = '';\n",
              "        dataTable['output_type'] = 'display_data';\n",
              "        await google.colab.output.renderOutput(dataTable, element);\n",
              "        const docLink = document.createElement('div');\n",
              "        docLink.innerHTML = docLinkHtml;\n",
              "        element.appendChild(docLink);\n",
              "      }\n",
              "    </script>\n",
              "  </div>\n",
              "\n",
              "\n",
              "    </div>\n",
              "  </div>\n"
            ],
            "application/vnd.google.colaboratory.intrinsic+json": {
              "type": "dataframe",
              "summary": "{\n  \"name\": \"df_recipe\",\n  \"rows\": 1,\n  \"fields\": [\n    {\n      \"column\": \"recipe_id\",\n      \"properties\": {\n        \"dtype\": \"string\",\n        \"num_unique_values\": 1,\n        \"samples\": [\n          \"22ebb75b1e\"\n        ],\n        \"semantic_type\": \"\",\n        \"description\": \"\"\n      }\n    },\n    {\n      \"column\": \"title\",\n      \"properties\": {\n        \"dtype\": \"string\",\n        \"num_unique_values\": 1,\n        \"samples\": [\n          \"Maple Glazed Ribs\"\n        ],\n        \"semantic_type\": \"\",\n        \"description\": \"\"\n      }\n    },\n    {\n      \"column\": \"ingredients\",\n      \"properties\": {\n        \"dtype\": \"string\",\n        \"num_unique_values\": 1,\n        \"samples\": [\n          \"3 pounds baby back pork ribs ; \\u00be cup maple syrup ; 2 tablespoons packed brown sugar ; 2 tablespoons ketchup ; 1 tablespoon cider vinegar ; 1 tablespoon Worcestershire sauce ; \\u00bd teaspoon salt ; \\u00bd teaspoon mustard powder\"\n        ],\n        \"semantic_type\": \"\",\n        \"description\": \"\"\n      }\n    },\n    {\n      \"column\": \"directions\",\n      \"properties\": {\n        \"dtype\": \"string\",\n        \"num_unique_values\": 1,\n        \"samples\": [\n          \"Place ribs in a large pot, and cover with water. Cover, and simmer for 1 hour, or until meat is tender. Drain, and transfer ribs to a shallow dish. In a small saucepan, stir together the maple syrup, brown sugar, ketchup, vinegar, Worcestershire sauce, salt, and mustard powder. Bring to a low boil, and cook for 5 minutes, stirring frequently. Cool slightly, then pour over ribs, and marinate in the refrigerator for 2 hours. Prepare grill for cooking with indirect heat. Remove ribs from marinade. Transfer marinade to a small saucepan, and boil for several minutes. Lightly oil grate. Cook for about 20 minutes, basting with the cooked marinade frequently, until nicely glazed.\"\n        ],\n        \"semantic_type\": \"\",\n        \"description\": \"\"\n      }\n    },\n    {\n      \"column\": \"prep_time\",\n      \"properties\": {\n        \"dtype\": \"string\",\n        \"num_unique_values\": 1,\n        \"samples\": [\n          \"15 mins\"\n        ],\n        \"semantic_type\": \"\",\n        \"description\": \"\"\n      }\n    },\n    {\n      \"column\": \"cook_time\",\n      \"properties\": {\n        \"dtype\": \"string\",\n        \"num_unique_values\": 1,\n        \"samples\": [\n          \"1 hr 25 mins\"\n        ],\n        \"semantic_type\": \"\",\n        \"description\": \"\"\n      }\n    },\n    {\n      \"column\": \"total_time\",\n      \"properties\": {\n        \"dtype\": \"string\",\n        \"num_unique_values\": 1,\n        \"samples\": [\n          \"3 hrs 40 mins\"\n        ],\n        \"semantic_type\": \"\",\n        \"description\": \"\"\n      }\n    },\n    {\n      \"column\": \"servings\",\n      \"properties\": {\n        \"dtype\": \"number\",\n        \"std\": null,\n        \"min\": 6,\n        \"max\": 6,\n        \"num_unique_values\": 1,\n        \"samples\": [\n          6\n        ],\n        \"semantic_type\": \"\",\n        \"description\": \"\"\n      }\n    },\n    {\n      \"column\": \"image\",\n      \"properties\": {\n        \"dtype\": \"string\",\n        \"num_unique_values\": 1,\n        \"samples\": [\n          \"https://www.allrecipes.com/thmb/OauPijk98_KD3g6x80z1hc2p0rU=/960x960/smart/filters:no_upscale()/29332-c57bc540e22d4bf6bca0652347d3be62.jpg\"\n        ],\n        \"semantic_type\": \"\",\n        \"description\": \"\"\n      }\n    },\n    {\n      \"column\": \"category\",\n      \"properties\": {\n        \"dtype\": \"string\",\n        \"num_unique_values\": 1,\n        \"samples\": [\n          \"meat-and-poultry\"\n        ],\n        \"semantic_type\": \"\",\n        \"description\": \"\"\n      }\n    },\n    {\n      \"column\": \"instructions_list\",\n      \"properties\": {\n        \"dtype\": \"string\",\n        \"num_unique_values\": 1,\n        \"samples\": [\n          \"['Place ribs in a large pot, and cover with water. Cover, and simmer for 1 hour, or until meat is tender. Drain, and transfer ribs to a shallow dish.', 'In a small saucepan, stir together the maple syrup, brown sugar, ketchup, vinegar, Worcestershire sauce, salt, and mustard powder. Bring to a low boil, and cook for 5 minutes, stirring frequently. Cool slightly, then pour over ribs, and marinate in the refrigerator for 2 hours.', 'Prepare grill for cooking with indirect heat. Remove ribs from marinade. Transfer marinade to a small saucepan, and boil for several minutes.', 'Lightly oil grate. Cook for about 20 minutes, basting with the cooked marinade frequently, until nicely glazed.']\"\n        ],\n        \"semantic_type\": \"\",\n        \"description\": \"\"\n      }\n    },\n    {\n      \"column\": \"calories\",\n      \"properties\": {\n        \"dtype\": \"number\",\n        \"std\": null,\n        \"min\": 485.2,\n        \"max\": 485.2,\n        \"num_unique_values\": 1,\n        \"samples\": [\n          485.2\n        ],\n        \"semantic_type\": \"\",\n        \"description\": \"\"\n      }\n    },\n    {\n      \"column\": \"carbohydrates_g\",\n      \"properties\": {\n        \"dtype\": \"number\",\n        \"std\": null,\n        \"min\": 30.5,\n        \"max\": 30.5,\n        \"num_unique_values\": 1,\n        \"samples\": [\n          30.5\n        ],\n        \"semantic_type\": \"\",\n        \"description\": \"\"\n      }\n    },\n    {\n      \"column\": \"sugars_g\",\n      \"properties\": {\n        \"dtype\": \"number\",\n        \"std\": null,\n        \"min\": 14.3,\n        \"max\": 14.3,\n        \"num_unique_values\": 1,\n        \"samples\": [\n          14.3\n        ],\n        \"semantic_type\": \"\",\n        \"description\": \"\"\n      }\n    },\n    {\n      \"column\": \"fat_g\",\n      \"properties\": {\n        \"dtype\": \"number\",\n        \"std\": null,\n        \"min\": 29.5,\n        \"max\": 29.5,\n        \"num_unique_values\": 1,\n        \"samples\": [\n          29.5\n        ],\n        \"semantic_type\": \"\",\n        \"description\": \"\"\n      }\n    },\n    {\n      \"column\": \"protein_g\",\n      \"properties\": {\n        \"dtype\": \"number\",\n        \"std\": null,\n        \"min\": 24.2,\n        \"max\": 24.2,\n        \"num_unique_values\": 1,\n        \"samples\": [\n          24.2\n        ],\n        \"semantic_type\": \"\",\n        \"description\": \"\"\n      }\n    },\n    {\n      \"column\": \"url\",\n      \"properties\": {\n        \"dtype\": \"string\",\n        \"num_unique_values\": 1,\n        \"samples\": [\n          \"https://www.allrecipes.com/recipe/14503/maple-glazed-ribs/\"\n        ],\n        \"semantic_type\": \"\",\n        \"description\": \"\"\n      }\n    },\n    {\n      \"column\": \"rating\",\n      \"properties\": {\n        \"dtype\": \"number\",\n        \"std\": null,\n        \"min\": 4.56,\n        \"max\": 4.56,\n        \"num_unique_values\": 1,\n        \"samples\": [\n          4.56\n        ],\n        \"semantic_type\": \"\",\n        \"description\": \"\"\n      }\n    },\n    {\n      \"column\": \"diet\",\n      \"properties\": {\n        \"dtype\": \"string\",\n        \"num_unique_values\": 1,\n        \"samples\": [\n          \"Junk\"\n        ],\n        \"semantic_type\": \"\",\n        \"description\": \"\"\n      }\n    }\n  ]\n}"
            }
          },
          "metadata": {},
          "execution_count": 39
        }
      ]
    },
    {
      "cell_type": "code",
      "source": [
        "def augment_image(row, i):\n",
        "    \"\"\"Function to augment a single image.\"\"\"\n",
        "    orig_img_path = IMAGE_DIR / f\"{row['recipe_id']}.jpg\"\n",
        "    new_recipe_id = f\"{row['recipe_id']}_aug{i}\"\n",
        "    new_img_path = IMG_OUT_DIR / f\"{new_recipe_id}.jpg\"\n",
        "\n",
        "    try:\n",
        "        if new_img_path.exists():\n",
        "            # If augmented image already exists, reuse it\n",
        "            new_row = row.copy()\n",
        "            new_row['recipe_id'] = new_recipe_id\n",
        "            new_row['image'] = f\"{new_recipe_id}.jpg\"\n",
        "            return pd.DataFrame([new_row])\n",
        "\n",
        "        if orig_img_path.exists():\n",
        "            # Load and augment original image\n",
        "            img = Image.open(orig_img_path).convert('RGB')\n",
        "            aug_img = augment(img)\n",
        "            aug_img.save(new_img_path)\n",
        "\n",
        "            new_row = row.copy()\n",
        "            new_row['recipe_id'] = new_recipe_id\n",
        "            new_row['image'] = f\"{new_recipe_id}.jpg\"\n",
        "            return pd.DataFrame([new_row])\n",
        "        else:\n",
        "            # print(f\"Original image not found: {orig_img_path}\")\n",
        "            return None\n",
        "    except Exception as e:\n",
        "        print(f\"Error processing {orig_img_path}: {e}\")\n",
        "        return None\n",
        "\n",
        "# Process each class with outer tqdm\n",
        "for diet in classes:\n",
        "    class_df = df_recipe[df_recipe['diet'] == diet]\n",
        "    current_count = len(class_df)\n",
        "\n",
        "    if current_count >= TARGET_SIZE:\n",
        "        # No augmentation needed, keep as is\n",
        "        augmented_data.append(class_df)\n",
        "    else:\n",
        "        # Add original rows\n",
        "        augmented_data.append(class_df)\n",
        "        extra_needed = TARGET_SIZE - current_count\n",
        "\n",
        "        # Parallel processing for image augmentation\n",
        "        with concurrent.futures.ProcessPoolExecutor(max_workers=8) as executor:  # Adjust workers based on CPU cores\n",
        "            futures = [executor.submit(augment_image, class_df.sample(1, random_state=i).iloc[0], i)\n",
        "                       for i in range(extra_needed)]\n",
        "\n",
        "            for future in tqdm(concurrent.futures.as_completed(futures), total=extra_needed, desc=f\"Augmenting {diet}\"):\n",
        "                result = future.result()\n",
        "                if result is not None:\n",
        "                    augmented_data.append(result)\n",
        "\n",
        "    # Verify class size\n",
        "    # class_size = sum(len(df_clean[df_clean['diet'] == diet]) for df in augmented_data if diet in df['diet'].values)\n",
        "    # print(f\"{diet}: {class_size} (Target: {TARGET_SIZE})\")"
      ],
      "metadata": {
        "colab": {
          "base_uri": "https://localhost:8080/"
        },
        "id": "zlv819cP8fb9",
        "outputId": "7890f41c-1cd3-4c79-f983-e7cf2fb608fd"
      },
      "execution_count": 40,
      "outputs": [
        {
          "output_type": "stream",
          "name": "stderr",
          "text": [
            "Augmenting Balanced: 100%|██████████| 7241/7241 [02:51<00:00, 42.31it/s]\n",
            "Augmenting HPLC: 100%|██████████| 6581/6581 [03:00<00:00, 36.41it/s]\n",
            "Augmenting LCHF: 100%|██████████| 5644/5644 [02:54<00:00, 32.32it/s]\n",
            "Augmenting HCLF: 100%|██████████| 7880/7880 [03:49<00:00, 34.35it/s]\n"
          ]
        }
      ]
    },
    {
      "cell_type": "code",
      "source": [
        "# Combine and save\n",
        "augmented_df = pd.concat(augmented_data).reset_index(drop=True)\n",
        "augmented_df.head()"
      ],
      "metadata": {
        "id": "k0-EEYPF8xMz"
      },
      "execution_count": null,
      "outputs": []
    },
    {
      "cell_type": "code",
      "source": [
        "augmented_df.to_csv(DIR + 'data/recipes_augmented.csv', index=False)\n",
        "\n",
        "print(\"Final distribution:\")\n",
        "print(augmented_df['diet'].value_counts())"
      ],
      "metadata": {
        "id": "uqSrWgo39b2A"
      },
      "execution_count": null,
      "outputs": []
    },
    {
      "cell_type": "code",
      "source": [
        "# Recipe IDs to remove\n",
        "recipe_ids_to_remove = ['a3d2de7675', '4090db5c8c', 'd637804a15', '6b1a599fcf']\n",
        "\n",
        "# Concatenate the dataframes\n",
        "merged_df = pd.concat([df_recipe, augmented_df], ignore_index=True)\n",
        "\n",
        "# Remove the specified recipe IDs\n",
        "merged_df = merged_df[~merged_df['recipe_id'].isin(recipe_ids_to_remove)]\n",
        "\n",
        "# Save the merged dataframe\n",
        "merged_df.to_csv(os.path.join(DIR, \"data/final.csv\"), index=False)"
      ],
      "metadata": {
        "id": "lxMSjgtA9gd7"
      },
      "execution_count": null,
      "outputs": []
    },
    {
      "cell_type": "code",
      "source": [
        "merged_df['diet'].value_counts()"
      ],
      "metadata": {
        "id": "at87aFvr9ldZ"
      },
      "execution_count": null,
      "outputs": []
    }
  ]
}